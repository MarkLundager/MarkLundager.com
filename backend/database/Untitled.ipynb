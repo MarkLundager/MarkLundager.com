{
 "cells": [
  {
   "cell_type": "code",
   "execution_count": 3,
   "id": "4cf2ba81",
   "metadata": {},
   "outputs": [],
   "source": [
    "import sqlite3\n",
    "\n",
    "db = sqlite3.connect('db.sqlite')"
   ]
  },
  {
   "cell_type": "code",
   "execution_count": 8,
   "id": "aee3b8d8",
   "metadata": {},
   "outputs": [
    {
     "name": "stdout",
     "output_type": "stream",
     "text": [
      "[(1, 'asd', 0, b'$2b$12$gpUjVaIji.ooo6ZY/l7S4.', b'$2b$12$gpUjVaIji.ooo6ZY/l7S4.CS1jhCRPcgq94o6adOEzIjy9gTS1qhu')]\n"
     ]
    }
   ],
   "source": [
    "c = db.cursor()\n",
    "c.execute(\"\"\"\n",
    "        SELECT id, username, authority, salt, password_hash\n",
    "        FROM accounts\n",
    "        WHERE id == ?\n",
    "        \"\"\", '1')\n",
    "user_data = c.fetchall()\n",
    "print(user_data)"
   ]
  },
  {
   "cell_type": "code",
   "execution_count": null,
   "id": "840fa791",
   "metadata": {},
   "outputs": [],
   "source": []
  }
 ],
 "metadata": {
  "kernelspec": {
   "display_name": "Python 3 (ipykernel)",
   "language": "python",
   "name": "python3"
  },
  "language_info": {
   "codemirror_mode": {
    "name": "ipython",
    "version": 3
   },
   "file_extension": ".py",
   "mimetype": "text/x-python",
   "name": "python",
   "nbconvert_exporter": "python",
   "pygments_lexer": "ipython3",
   "version": "3.9.12"
  }
 },
 "nbformat": 4,
 "nbformat_minor": 5
}
