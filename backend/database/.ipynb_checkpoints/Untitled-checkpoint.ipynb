{
 "cells": [
  {
   "cell_type": "code",
   "execution_count": 8,
   "id": "4cf2ba81",
   "metadata": {},
   "outputs": [],
   "source": [
    "import sqlite3\n",
    "\n"
   ]
  },
  {
   "cell_type": "code",
   "execution_count": 15,
   "id": "aee3b8d8",
   "metadata": {},
   "outputs": [
    {
     "name": "stdout",
     "output_type": "stream",
     "text": [
      "[(1, 'asd', 0, b'$2b$12$/31r3uxCRq/zszQje1OQf.PS2sUbYA8H7fVLlFreI93Rtbu3ZVu6y', 0), (2, 'dd', 0, b'$2b$12$SkUVtg/yFguwoQ27HC2nX.h4VUlg0MbnSAh7SNO/bD389NeVyY8i6', 0)]\n"
     ]
    }
   ],
   "source": [
    "db = sqlite3.connect('db.sqlite')\n",
    "c = db.cursor()\n",
    "c.execute(\"\"\"\n",
    "        SELECT id, username, authority, password_hash, authority\n",
    "        FROM accounts\n",
    "        \"\"\")\n",
    "user_data = c.fetchall()\n",
    "print(user_data)\n",
    "c.close()\n",
    "db.close()"
   ]
  },
  {
   "cell_type": "code",
   "execution_count": 14,
   "id": "840fa791",
   "metadata": {},
   "outputs": [],
   "source": [
    "db = sqlite3.connect('db.sqlite')\n",
    "c = db.cursor()\n",
    "c.execute(\"\"\"\n",
    "\n",
    "        UPDATE accounts\n",
    "        SET authority = 4\n",
    "        WHERE id = 2;\n",
    "\n",
    "        \"\"\")\n",
    "db.commit()\n",
    "c.close()\n",
    "db.close()"
   ]
  },
  {
   "cell_type": "code",
   "execution_count": null,
   "id": "51dcaa16",
   "metadata": {},
   "outputs": [],
   "source": []
  }
 ],
 "metadata": {
  "kernelspec": {
   "display_name": "Python 3 (ipykernel)",
   "language": "python",
   "name": "python3"
  },
  "language_info": {
   "codemirror_mode": {
    "name": "ipython",
    "version": 3
   },
   "file_extension": ".py",
   "mimetype": "text/x-python",
   "name": "python",
   "nbconvert_exporter": "python",
   "pygments_lexer": "ipython3",
   "version": "3.9.12"
  }
 },
 "nbformat": 4,
 "nbformat_minor": 5
}
